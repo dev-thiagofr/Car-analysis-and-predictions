{
 "cells": [
  {
   "cell_type": "markdown",
   "metadata": {},
   "source": [
    "# Inspecionando os dataframes"
   ]
  },
  {
   "cell_type": "code",
   "execution_count": 1,
   "metadata": {},
   "outputs": [],
   "source": [
    "#Importando bibliotecas\n",
    "import pyodbc\n",
    "import os\n",
    "import pandas as pd\n",
    "import numpy as np\n",
    "import matplotlib.pyplot as plt\n",
    "import seaborn as sns\n",
    "%matplotlib inline"
   ]
  },
  {
   "cell_type": "code",
   "execution_count": 3,
   "metadata": {},
   "outputs": [],
   "source": [
    "df=pd.read_csv(\"autoscout24-germany-dataset.csv\")\n"
   ]
  },
  {
   "cell_type": "code",
   "execution_count": 4,
   "metadata": {},
   "outputs": [
    {
     "name": "stdout",
     "output_type": "stream",
     "text": [
      "<class 'pandas.core.frame.DataFrame'>\n",
      "RangeIndex: 46405 entries, 0 to 46404\n",
      "Data columns (total 9 columns):\n",
      " #   Column     Non-Null Count  Dtype  \n",
      "---  ------     --------------  -----  \n",
      " 0   mileage    46405 non-null  int64  \n",
      " 1   make       46405 non-null  object \n",
      " 2   model      46262 non-null  object \n",
      " 3   fuel       46405 non-null  object \n",
      " 4   gear       46223 non-null  object \n",
      " 5   offerType  46405 non-null  object \n",
      " 6   price      46405 non-null  int64  \n",
      " 7   hp         46376 non-null  float64\n",
      " 8   year       46405 non-null  int64  \n",
      "dtypes: float64(1), int64(3), object(5)\n",
      "memory usage: 3.2+ MB\n"
     ]
    }
   ],
   "source": [
    "df.info()"
   ]
  },
  {
   "cell_type": "code",
   "execution_count": 5,
   "metadata": {},
   "outputs": [
    {
     "data": {
      "text/html": [
       "<div>\n",
       "<style scoped>\n",
       "    .dataframe tbody tr th:only-of-type {\n",
       "        vertical-align: middle;\n",
       "    }\n",
       "\n",
       "    .dataframe tbody tr th {\n",
       "        vertical-align: top;\n",
       "    }\n",
       "\n",
       "    .dataframe thead th {\n",
       "        text-align: right;\n",
       "    }\n",
       "</style>\n",
       "<table border=\"1\" class=\"dataframe\">\n",
       "  <thead>\n",
       "    <tr style=\"text-align: right;\">\n",
       "      <th></th>\n",
       "      <th>mileage</th>\n",
       "      <th>make</th>\n",
       "      <th>model</th>\n",
       "      <th>fuel</th>\n",
       "      <th>gear</th>\n",
       "      <th>offerType</th>\n",
       "      <th>price</th>\n",
       "      <th>hp</th>\n",
       "      <th>year</th>\n",
       "    </tr>\n",
       "  </thead>\n",
       "  <tbody>\n",
       "    <tr>\n",
       "      <th>0</th>\n",
       "      <td>235000</td>\n",
       "      <td>BMW</td>\n",
       "      <td>316</td>\n",
       "      <td>Diesel</td>\n",
       "      <td>Manual</td>\n",
       "      <td>Used</td>\n",
       "      <td>6800</td>\n",
       "      <td>116.0</td>\n",
       "      <td>2011</td>\n",
       "    </tr>\n",
       "  </tbody>\n",
       "</table>\n",
       "</div>"
      ],
      "text/plain": [
       "   mileage make model    fuel    gear offerType  price     hp  year\n",
       "0   235000  BMW   316  Diesel  Manual      Used   6800  116.0  2011"
      ]
     },
     "execution_count": 5,
     "metadata": {},
     "output_type": "execute_result"
    }
   ],
   "source": [
    "df.head(1)"
   ]
  },
  {
   "cell_type": "code",
   "execution_count": 6,
   "metadata": {},
   "outputs": [
    {
     "data": {
      "text/plain": [
       "mileage        0\n",
       "make           0\n",
       "model        143\n",
       "fuel           0\n",
       "gear         182\n",
       "offerType      0\n",
       "price          0\n",
       "hp            29\n",
       "year           0\n",
       "dtype: int64"
      ]
     },
     "execution_count": 6,
     "metadata": {},
     "output_type": "execute_result"
    }
   ],
   "source": [
    "df.isnull().sum()"
   ]
  },
  {
   "cell_type": "code",
   "execution_count": 7,
   "metadata": {},
   "outputs": [
    {
     "name": "stdout",
     "output_type": "stream",
     "text": [
      "\n",
      "Features da base\n",
      " ['mileage', 'make', 'model', 'fuel', 'gear', 'offerType', 'price', 'hp', 'year']\n"
     ]
    }
   ],
   "source": [
    "print(\"\\nFeatures da base\\n\",df.columns.to_list())"
   ]
  },
  {
   "cell_type": "code",
   "execution_count": 8,
   "metadata": {},
   "outputs": [
    {
     "name": "stdout",
     "output_type": "stream",
     "text": [
      "\n",
      "Valores unicos: \n",
      " mileage      20117\n",
      "make            77\n",
      "model          841\n",
      "fuel            11\n",
      "gear             3\n",
      "offerType        5\n",
      "price         6668\n",
      "hp             328\n",
      "year            11\n",
      "dtype: int64\n"
     ]
    }
   ],
   "source": [
    "print(\"\\nValores unicos: \\n\", df.nunique())"
   ]
  },
  {
   "cell_type": "markdown",
   "metadata": {},
   "source": [
    "# Explorando o dataset"
   ]
  },
  {
   "cell_type": "code",
   "execution_count": null,
   "metadata": {},
   "outputs": [],
   "source": [
    "# Heatmap não está funcionando\n",
    "sns.heatmap(df, annot=False , cmap='viridis', fmt='d')\n",
    "plt.xlabel('Teste X')\n",
    "plt.ylabel('Teste y')\n",
    "plt.show()"
   ]
  },
  {
   "cell_type": "code",
   "execution_count": 10,
   "metadata": {},
   "outputs": [
    {
     "data": {
      "text/plain": [
       "<Axes: xlabel='fuel', ylabel='count'>"
      ]
     },
     "execution_count": 10,
     "metadata": {},
     "output_type": "execute_result"
    },
    {
     "data": {
      "image/png": "[encoded data removed]",
      "text/plain": [
       "<Figure size 640x480 with 1 Axes>"
      ]
     },
     "metadata": {},
     "output_type": "display_data"
    }
   ],
   "source": [
    "sns.countplot(data=df, x='fuel')"
   ]
  },
  {
   "cell_type": "code",
   "execution_count": 11,
   "metadata": {},
   "outputs": [
    {
     "data": {
      "text/plain": [
       "fuel\n",
       "Gasoline             28864\n",
       "Diesel               15244\n",
       "Electric/Gasoline     1158\n",
       "Electric               758\n",
       "LPG                    126\n",
       "CNG                    117\n",
       "Others                  56\n",
       "Electric/Diesel         53\n",
       "-/- (Fuel)              26\n",
       "Ethanol                  2\n",
       "Hydrogen                 1\n",
       "Name: count, dtype: int64"
      ]
     },
     "execution_count": 11,
     "metadata": {},
     "output_type": "execute_result"
    }
   ],
   "source": [
    "# O carros com outros tipos de combustiveis tirando Gasolina e Diesel não correspondem nem a 3% do dateset\n",
    "df['fuel'].value_counts()"
   ]
  },
  {
   "cell_type": "code",
   "execution_count": 12,
   "metadata": {},
   "outputs": [
    {
     "data": {
      "text/plain": [
       "46405"
      ]
     },
     "execution_count": 12,
     "metadata": {},
     "output_type": "execute_result"
    }
   ],
   "source": [
    "df['fuel'].count()"
   ]
  },
  {
   "cell_type": "code",
   "execution_count": 13,
   "metadata": {},
   "outputs": [
    {
     "name": "stdout",
     "output_type": "stream",
     "text": [
      "Valores unicos das marcas 77\n",
      "Todas as marcas listadas no Dataset ['BMW' 'Volkswagen' 'SEAT' 'Renault' 'Peugeot' 'Toyota' 'Opel' 'Mazda'\n",
      " 'Ford' 'Mercedes-Benz' 'Chevrolet' 'Audi' 'Fiat' 'Kia' 'Dacia' 'MINI'\n",
      " 'Hyundai' 'Skoda' 'Citroen' 'Infiniti' 'Suzuki' 'SsangYong' 'smart'\n",
      " 'Cupra' 'Volvo' 'Jaguar' 'Porsche' 'Nissan' 'Honda' 'Lada' 'Mitsubishi'\n",
      " 'Others' 'Lexus' 'Jeep' 'Maserati' 'Bentley' 'Land' 'Alfa' 'Subaru'\n",
      " 'Dodge' 'Microcar' 'Lamborghini' 'Baic' 'Tesla' 'Chrysler' '9ff'\n",
      " 'McLaren' 'Aston' 'Rolls-Royce' 'Alpine' 'Lancia' 'Abarth' 'DS'\n",
      " 'Daihatsu' 'Ligier' 'Ferrari' 'Caravans-Wohnm' 'Aixam' 'Piaggio' 'Zhidou'\n",
      " 'Morgan' 'Maybach' 'Tazzari' 'Trucks-Lkw' 'RAM' 'Iveco' 'DAF' 'Alpina'\n",
      " 'Polestar' 'Brilliance' 'FISKER' 'Cadillac' 'Trailer-Anhänger' 'Isuzu'\n",
      " 'Corvette' 'DFSK' 'Estrima']\n"
     ]
    }
   ],
   "source": [
    "#Explorando todas as marcas que há nas bases\n",
    "print(\"Valores unicos das marcas\",df['make'].nunique())\n",
    "\n",
    "print(\"Todas as marcas listadas no Dataset\", df['make'].unique())"
   ]
  },
  {
   "cell_type": "code",
   "execution_count": 24,
   "metadata": {},
   "outputs": [
    {
     "name": "stdout",
     "output_type": "stream",
     "text": [
      "Todos os Horsepowers listados [116. 122. 160. 110. 156.  99. 131. 150.  86. 101. 105. 204. 141. 120.\n",
      "  60. 135. 143. 140. 163. 179. 125.  90. 109.  98. 184. 102. 126.  80.\n",
      " 136. 190. 170.  94. 178.  69.  87. 200. 252. 333.  71.  67.  95.  75.\n",
      " 272. 218. 231. 239. 300. 224. 320. 354. 286. 370. 235. 265. 211. 367.\n",
      " 400. 381. 245. 347. 340.  72.  84. 117. 132. 124.  82.  92. 128.  58.\n",
      "  73. 106. 182. 326.  38. 194. 313. 392. 199. 551.  54.  88.  61.  68.\n",
      "  97.  77.  nan 258. 155. 349. 310. 254. 220. 209. 250. 177. 238. 114.\n",
      " 280. 230. 185. 181. 212. 111. 334. 460. 635. 192. 435. 450. 421. 455.\n",
      " 165. 237. 360. 408. 341. 253. 390. 145. 166.  83.  91. 175. 147. 152.\n",
      "  76.  65. 167. 173. 118. 462. 306. 449. 188. 717. 510. 600.   5. 121.\n",
      " 197. 330. 262. 700. 476. 401. 575. 159. 151.  11. 223. 612. 241. 441.\n",
      " 457. 480. 560. 557. 598. 620. 129. 174. 207. 374. 292. 249. 299. 625.\n",
      " 650. 420. 549. 513. 144. 287. 186.  20. 303. 571. 562. 570. 446. 430.\n",
      " 201. 363. 275. 260. 203. 264. 337.  48. 394. 469. 605. 405. 205.  56.\n",
      " 107. 366. 581. 721. 770. 261.   8. 404. 325. 411.   1. 417. 530. 215.\n",
      " 242. 585. 158.  24. 345. 610. 133. 630.  18. 387. 351. 500. 453. 328.\n",
      " 222. 290. 639. 305. 213. 609. 733. 256. 169. 148. 352. 525. 669. 385.\n",
      " 426. 315. 517. 555. 294. 799. 659. 409. 375. 680. 219. 271. 431. 519.\n",
      " 548. 507. 445. 772. 416. 288. 775. 196. 309. 226. 468.  10. 464. 751.\n",
      "  42. 189. 503. 281.  79. 171. 103. 632. 279. 544. 591. 113. 273. 154.\n",
      " 559. 649. 674. 317. 247. 359. 740. 540. 428.  12. 706. 339.  41.  63.\n",
      "   7. 243. 398. 276.  64. 364. 572. 670. 283. 362. 608. 642. 604.  52.\n",
      " 532. 314. 291. 481. 521. 193. 355. 850. 767.  16.   3. 487. 321. 389.\n",
      " 795. 461. 318. 344. 771. 489. 566.]\n"
     ]
    }
   ],
   "source": [
    "#Explorando os Potencia em cavalos para ver se possuimos outliers\n",
    "print(\"Todos os Horsepowers listados\", df['hp'].unique())"
   ]
  },
  {
   "cell_type": "code",
   "execution_count": 15,
   "metadata": {},
   "outputs": [
    {
     "data": {
      "text/plain": [
       "gear\n",
       "Manual            30380\n",
       "Automatic         15787\n",
       "Semi-automatic       56\n",
       "Name: count, dtype: int64"
      ]
     },
     "execution_count": 15,
     "metadata": {},
     "output_type": "execute_result"
    }
   ],
   "source": [
    "#Transformar a coluna de Cambio em One-Hot-Encoding?\n",
    "\n",
    "df['gear'].value_counts()"
   ]
  },
  {
   "cell_type": "code",
   "execution_count": 16,
   "metadata": {},
   "outputs": [
    {
     "data": {
      "text/plain": [
       "offerType\n",
       "Used              40122\n",
       "Pre-registered     2780\n",
       "Demonstration      2368\n",
       "Employee's car     1122\n",
       "New                  13\n",
       "Name: count, dtype: int64"
      ]
     },
     "execution_count": 16,
     "metadata": {},
     "output_type": "execute_result"
    }
   ],
   "source": [
    "# É melhor trabalhar com carros usados mesmo\n",
    "\n",
    "# Carros da categoria \"Pre-registered\" são basicamente carros novos \n",
    "df['offerType'].value_counts()"
   ]
  },
  {
   "cell_type": "code",
   "execution_count": 17,
   "metadata": {},
   "outputs": [
    {
     "data": {
      "text/plain": [
       "1199900"
      ]
     },
     "execution_count": 17,
     "metadata": {},
     "output_type": "execute_result"
    }
   ],
   "source": [
    "#Explorando os valores minimos e máximos dos nosso preços\n",
    "df['price'].max()\n",
    "df['price'].min()"
   ]
  },
  {
   "cell_type": "code",
   "execution_count": 20,
   "metadata": {},
   "outputs": [
    {
     "data": {
      "text/plain": [
       "model\n",
       "Golf                         1492\n",
       "Corsa                        1491\n",
       "Fiesta                       1289\n",
       "Astra                        1191\n",
       "Focus                         985\n",
       "                             ... \n",
       "S60 Cross Country               1\n",
       "John Cooper Works Clubman       1\n",
       "323                             1\n",
       "Rodius                          1\n",
       "NV250                           1\n",
       "Name: count, Length: 841, dtype: int64"
      ]
     },
     "execution_count": 20,
     "metadata": {},
     "output_type": "execute_result"
    }
   ],
   "source": [
    "#Entendendo quais modelos nós mais temos nas bases\n",
    "df['model'].value_counts()"
   ]
  },
  {
   "cell_type": "markdown",
   "metadata": {},
   "source": [
    "# Tratando o dataset"
   ]
  },
  {
   "cell_type": "code",
   "execution_count": 28,
   "metadata": {},
   "outputs": [
    {
     "data": {
      "text/plain": [
       "mileage      0\n",
       "make         0\n",
       "model        0\n",
       "fuel         0\n",
       "gear         0\n",
       "offerType    0\n",
       "price        0\n",
       "hp           0\n",
       "year         0\n",
       "dtype: int64"
      ]
     },
     "execution_count": 28,
     "metadata": {},
     "output_type": "execute_result"
    }
   ],
   "source": [
    "df.isnull().sum()"
   ]
  },
  {
   "cell_type": "code",
   "execution_count": 27,
   "metadata": {},
   "outputs": [],
   "source": [
    "df.dropna(inplace=True)"
   ]
  },
  {
   "cell_type": "code",
   "execution_count": 29,
   "metadata": {},
   "outputs": [],
   "source": [
    "df.to_csv('dataset-autoscout24-limpo.csv')"
   ]
  },
  {
   "cell_type": "markdown",
   "metadata": {},
   "source": [
    "# Buscando boas transformações"
   ]
  },
  {
   "cell_type": "code",
   "execution_count": 4,
   "metadata": {},
   "outputs": [],
   "source": [
    "carros=pd.read_csv('dataset-autoscout24-limpo.csv')\n",
    "carros.describe()"
   ]
  },
  {
   "cell_type": "code",
   "execution_count": 8,
   "metadata": {},
   "outputs": [
    {
     "name": "stdout",
     "output_type": "stream",
     "text": [
      "model    835\n",
      "make      71\n",
      "dtype: int64\n"
     ]
    }
   ],
   "source": [
    "subset_modelo=carros[['model','make']].nunique()\n",
    "print(subset_modelo)"
   ]
  },
  {
   "cell_type": "code",
   "execution_count": 5,
   "metadata": {},
   "outputs": [
    {
     "name": "stdout",
     "output_type": "stream",
     "text": [
      "Modelos da marca Toyota: ['Auris' 'Verso' 'Yaris' 'Aygo' 'Avensis' 'Camry' 'C-HR' 'Prius' 'GT86'\n",
      " 'RAV 4' 'Corolla' 'Verso-S' 'Supra' 'Urban Cruiser' 'iQ' 'Proace'\n",
      " 'Prius+' 'Mirai' 'Land Cruiser' 'Highlander' 'Hilux']\n"
     ]
    }
   ],
   "source": [
    "#Tentando agrupar os dados apenas por uma marca\n",
    "marca_desejada='Toyota'\n",
    "modelo_desejado='Yaris'\n",
    "modelos_da_marca = carros.loc[carros['make'] == marca_desejada, 'model'].unique()\n",
    "print(f\"Modelos da marca {marca_desejada}: {modelos_da_marca}\")\n"
   ]
  },
  {
   "cell_type": "code",
   "execution_count": 7,
   "metadata": {},
   "outputs": [
    {
     "name": "stdout",
     "output_type": "stream",
     "text": [
      "       Unnamed: 0  mileage    make  model               fuel       gear  \\\n",
      "63             63    84600  Toyota  Yaris  Electric/Gasoline  Automatic   \n",
      "72             72    84721  Toyota  Yaris           Gasoline  Automatic   \n",
      "104           104    70604  Toyota  Yaris           Gasoline     Manual   \n",
      "105           105    68656  Toyota  Yaris           Gasoline     Manual   \n",
      "106           106    64783  Toyota  Yaris           Gasoline     Manual   \n",
      "...           ...      ...     ...    ...                ...        ...   \n",
      "43284       43579    16707  Toyota  Yaris           Gasoline     Manual   \n",
      "43289       43584    22682  Toyota  Yaris           Gasoline     Manual   \n",
      "43338       43635    16000  Toyota  Yaris  Electric/Gasoline  Automatic   \n",
      "43403       43702    17671  Toyota  Yaris           Gasoline  Automatic   \n",
      "45214       45535       10  Toyota  Yaris           Gasoline     Manual   \n",
      "\n",
      "            offerType  price     hp  year  \n",
      "63               Used   8990  143.0  2014  \n",
      "72               Used   9200  101.0  2014  \n",
      "104              Used   9490   69.0  2016  \n",
      "105              Used   9490   69.0  2016  \n",
      "106              Used   9490   69.0  2016  \n",
      "...               ...    ...    ...   ...  \n",
      "43284            Used  10450   72.0  2019  \n",
      "43289            Used  10490   72.0  2019  \n",
      "43338            Used  14863   73.0  2019  \n",
      "43403            Used  17990  101.0  2019  \n",
      "45214  Pre-registered  15780  125.0  2021  \n",
      "\n",
      "[285 rows x 10 columns]\n"
     ]
    }
   ],
   "source": [
    "carros_filtrados = carros.query(\"model == @modelo_desejado\")\n",
    "print(carros_filtrados)"
   ]
  },
  {
   "cell_type": "code",
   "execution_count": 11,
   "metadata": {},
   "outputs": [
    {
     "name": "stdout",
     "output_type": "stream",
     "text": [
      "       Unnamed: 0  mileage    make  model               fuel       gear  \\\n",
      "5               5   147000  Toyota  Auris  Electric/Gasoline  Automatic   \n",
      "58             58   169500  Toyota  Verso             Diesel     Manual   \n",
      "63             63    84600  Toyota  Yaris  Electric/Gasoline  Automatic   \n",
      "72             72    84721  Toyota  Yaris           Gasoline  Automatic   \n",
      "104           104    70604  Toyota  Yaris           Gasoline     Manual   \n",
      "...           ...      ...     ...    ...                ...        ...   \n",
      "45281       45602       10  Toyota   Aygo           Gasoline  Automatic   \n",
      "45579       45902     2500  Toyota   Aygo           Gasoline     Manual   \n",
      "46020       46354       25  Toyota   Aygo           Gasoline     Manual   \n",
      "46021       46355       25  Toyota   Aygo           Gasoline     Manual   \n",
      "46022       46356       50  Toyota   Aygo           Gasoline     Manual   \n",
      "\n",
      "            offerType  price     hp  year  \n",
      "5                Used   6950   99.0  2011  \n",
      "58               Used   9300  126.0  2013  \n",
      "63               Used   8990  143.0  2014  \n",
      "72               Used   9200  101.0  2014  \n",
      "104              Used   9490   69.0  2016  \n",
      "...               ...    ...    ...   ...  \n",
      "45281  Pre-registered  12890   72.0  2021  \n",
      "45579   Demonstration  13990   72.0  2021  \n",
      "46020  Pre-registered  10690   72.0  2021  \n",
      "46021  Pre-registered  10690   72.0  2021  \n",
      "46022  Pre-registered  13190   72.0  2021  \n",
      "\n",
      "[1272 rows x 10 columns]\n"
     ]
    }
   ],
   "source": [
    "modelos_unicos = carros_filtrados['model'].unique()\n",
    "\n",
    "# Filtrando novamente o DataFrame para incluir apenas os modelos únicos\n",
    "carros_filtrados_modelos_unicos = carros_filtrados[carros_filtrados['model'].isin(modelos_unicos)]\n",
    "\n",
    "# Exibindo o DataFrame resultante\n",
    "print(carros_filtrados_modelos_unicos)"
   ]
  },
  {
   "cell_type": "markdown",
   "metadata": {},
   "source": [
    "# Dividindo os CSV para filtrar apenas as informações dos modelos"
   ]
  },
  {
   "cell_type": "code",
   "execution_count": 22,
   "metadata": {},
   "outputs": [],
   "source": [
    "coluna='offerType'\n",
    "coluna2='price'\n",
    "coluna3='mileage'\n",
    "carros_so_modelos= carros.drop(coluna,axis=1)\n",
    "carros_so_modelos2= carros_so_modelos.drop(coluna2,axis=1)\n",
    "carros_so_modelos3= carros_so_modelos2.drop(coluna3,axis=1)"
   ]
  },
  {
   "cell_type": "code",
   "execution_count": 27,
   "metadata": {},
   "outputs": [
    {
     "name": "stdout",
     "output_type": "stream",
     "text": [
      "<class 'pandas.core.frame.DataFrame'>\n",
      "RangeIndex: 46071 entries, 0 to 46070\n",
      "Data columns (total 7 columns):\n",
      " #   Column      Non-Null Count  Dtype  \n",
      "---  ------      --------------  -----  \n",
      " 0   Unnamed: 0  46071 non-null  int64  \n",
      " 1   make        46071 non-null  object \n",
      " 2   model       46071 non-null  object \n",
      " 3   fuel        46071 non-null  object \n",
      " 4   gear        46071 non-null  object \n",
      " 5   hp          46071 non-null  float64\n",
      " 6   year        46071 non-null  int64  \n",
      "dtypes: float64(1), int64(2), object(4)\n",
      "memory usage: 2.5+ MB\n"
     ]
    }
   ],
   "source": [
    "carros_so_modelos3.info()\n",
    "carros_so_modelos3.to_csv('dataset-modelos.csv')"
   ]
  },
  {
   "cell_type": "markdown",
   "metadata": {},
   "source": [
    "# Pesquisando como os modelos podem ser encaixados no banco"
   ]
  },
  {
   "cell_type": "code",
   "execution_count": 42,
   "metadata": {},
   "outputs": [
    {
     "name": "stdout",
     "output_type": "stream",
     "text": [
      "       Unnamed: 0.1  Unnamed: 0        make   model               fuel  \\\n",
      "0                 0           0         BMW     316             Diesel   \n",
      "1                 1           1  Volkswagen    Golf           Gasoline   \n",
      "2                 2           2        SEAT    Exeo           Gasoline   \n",
      "3                 3           3     Renault  Megane           Gasoline   \n",
      "4                 4           4     Peugeot     308           Gasoline   \n",
      "...             ...         ...         ...     ...                ...   \n",
      "46066         46066       46400        Fiat     500  Electric/Gasoline   \n",
      "46067         46067       46401        Fiat     500  Electric/Gasoline   \n",
      "46068         46068       46402        Fiat     500  Electric/Gasoline   \n",
      "46069         46069       46403        Fiat     500  Electric/Gasoline   \n",
      "46070         46070       46404        Fiat     500  Electric/Gasoline   \n",
      "\n",
      "         gear     hp  year  \n",
      "0      Manual  116.0  2011  \n",
      "1      Manual  122.0  2011  \n",
      "2      Manual  160.0  2011  \n",
      "3      Manual  110.0  2011  \n",
      "4      Manual  156.0  2011  \n",
      "...       ...    ...   ...  \n",
      "46066  Manual   71.0  2021  \n",
      "46067  Manual   71.0  2021  \n",
      "46068  Manual   71.0  2021  \n",
      "46069  Manual   71.0  2021  \n",
      "46070  Manual   71.0  2021  \n",
      "\n",
      "[46071 rows x 8 columns]\n"
     ]
    }
   ],
   "source": [
    "modelos=pd.read_csv('dataset-modelos.csv')\n",
    "print(modelos)"
   ]
  },
  {
   "cell_type": "code",
   "execution_count": 37,
   "metadata": {},
   "outputs": [
    {
     "name": "stdout",
     "output_type": "stream",
     "text": [
      "       Unnamed: 0.1  Unnamed: 0 make model      fuel       gear     hp  year\n",
      "0                 0           0  BMW   316    Diesel     Manual  116.0  2011\n",
      "26               26          26  BMW   118    Diesel     Manual  143.0  2012\n",
      "29               29          29  BMW   118    Diesel     Manual  143.0  2012\n",
      "33               33          33  BMW   118    Diesel     Manual  143.0  2012\n",
      "39               39          39  BMW   320    Diesel  Automatic  184.0  2012\n",
      "...             ...         ...  ...   ...       ...        ...    ...   ...\n",
      "45603         45603       45929  BMW    i3  Electric  Automatic  102.0  2021\n",
      "45956         45956       46288  BMW    M4  Gasoline  Automatic  510.0  2021\n",
      "45963         45963       46295  BMW    X1  Gasoline  Automatic  192.0  2021\n",
      "46013         46013       46347  BMW  X3 M    Diesel  Automatic  340.0  2021\n",
      "46014         46014       46348  BMW   340  Gasoline  Automatic  374.0  2021\n",
      "\n",
      "[2392 rows x 8 columns]\n"
     ]
    }
   ],
   "source": [
    "#Separando o dataset pelas marcas já predefinidas\n",
    "marca_desejada='BMW'\n",
    "carros_filtrados = modelos.query(\"make == @marca_desejada\")\n",
    "\n",
    "print(carros_filtrados)\n",
    "\n",
    "carros_filtrados.to_csv('dataset-bmw.csv', index=False)"
   ]
  },
  {
   "cell_type": "code",
   "execution_count": 38,
   "metadata": {},
   "outputs": [],
   "source": [
    "modelos_sem_duplicatas = modelos.drop_duplicates(subset=['model'], keep='last')"
   ]
  },
  {
   "cell_type": "code",
   "execution_count": 44,
   "metadata": {},
   "outputs": [
    {
     "name": "stdout",
     "output_type": "stream",
     "text": [
      "       Unnamed: 0.1  Unnamed: 0           make          model  \\\n",
      "758             758         763  Mercedes-Benz        GLS 500   \n",
      "2158           2158        2169       Maserati    GranTurismo   \n",
      "2674           2674        2690        Renault        Express   \n",
      "3388           3388        3408       Chrysler  Grand Voyager   \n",
      "3616           3616        3638     Volkswagen     Cross Golf   \n",
      "...             ...         ...            ...            ...   \n",
      "46057         46057       46391     Mitsubishi     Space Star   \n",
      "46061         46061       46395        Citroen             C1   \n",
      "46064         46064       46398           Fiat          Panda   \n",
      "46065         46065       46399          Skoda          Fabia   \n",
      "46070         46070       46404           Fiat            500   \n",
      "\n",
      "                    fuel       gear     hp  year  \n",
      "758             Gasoline  Automatic  455.0  2019  \n",
      "2158            Gasoline  Automatic  460.0  2016  \n",
      "2674            Gasoline     Manual  101.0  2021  \n",
      "3388            Gasoline  Automatic  287.0  2013  \n",
      "3616            Gasoline     Manual  160.0  2014  \n",
      "...                  ...        ...    ...   ...  \n",
      "46057           Gasoline     Manual   71.0  2021  \n",
      "46061           Gasoline     Manual   72.0  2021  \n",
      "46064  Electric/Gasoline     Manual   69.0  2021  \n",
      "46065           Gasoline     Manual   60.0  2021  \n",
      "46070  Electric/Gasoline     Manual   71.0  2021  \n",
      "\n",
      "[835 rows x 8 columns]\n"
     ]
    }
   ],
   "source": [
    "print(modelos_sem_duplicatas)\n",
    "modelos_sem_duplicatas.to_csv('dataset-all-drop-duplicates.csv')"
   ]
  },
  {
   "cell_type": "code",
   "execution_count": 3,
   "metadata": {},
   "outputs": [],
   "source": [
    "teste=pd.read_csv('dataset-all-drop-duplicates.csv')\n"
   ]
  },
  {
   "cell_type": "code",
   "execution_count": 4,
   "metadata": {},
   "outputs": [
    {
     "data": {
      "text/plain": [
       "Unnamed: 0.2    835\n",
       "Unnamed: 0.1    835\n",
       "Unnamed: 0      835\n",
       "make             70\n",
       "model           835\n",
       "fuel              9\n",
       "gear              2\n",
       "hp              217\n",
       "year             11\n",
       "dtype: int64"
      ]
     },
     "execution_count": 4,
     "metadata": {},
     "output_type": "execute_result"
    }
   ],
   "source": [
    "teste."
   ]
  },
  {
   "cell_type": "code",
   "execution_count": 5,
   "metadata": {},
   "outputs": [],
   "source": [
    "teste2=pd.read_csv('autoscout24-germany-dataset.csv')"
   ]
  },
  {
   "cell_type": "code",
   "execution_count": 9,
   "metadata": {},
   "outputs": [
    {
     "data": {
      "text/html": [
       "<div>\n",
       "<style scoped>\n",
       "    .dataframe tbody tr th:only-of-type {\n",
       "        vertical-align: middle;\n",
       "    }\n",
       "\n",
       "    .dataframe tbody tr th {\n",
       "        vertical-align: top;\n",
       "    }\n",
       "\n",
       "    .dataframe thead th {\n",
       "        text-align: right;\n",
       "    }\n",
       "</style>\n",
       "<table border=\"1\" class=\"dataframe\">\n",
       "  <thead>\n",
       "    <tr style=\"text-align: right;\">\n",
       "      <th></th>\n",
       "      <th>mileage</th>\n",
       "      <th>make</th>\n",
       "      <th>model</th>\n",
       "      <th>fuel</th>\n",
       "      <th>gear</th>\n",
       "      <th>offerType</th>\n",
       "      <th>price</th>\n",
       "      <th>hp</th>\n",
       "      <th>year</th>\n",
       "    </tr>\n",
       "  </thead>\n",
       "  <tbody>\n",
       "    <tr>\n",
       "      <th>0</th>\n",
       "      <td>235000</td>\n",
       "      <td>BMW</td>\n",
       "      <td>316</td>\n",
       "      <td>Diesel</td>\n",
       "      <td>Manual</td>\n",
       "      <td>Used</td>\n",
       "      <td>6800</td>\n",
       "      <td>116.0</td>\n",
       "      <td>2011</td>\n",
       "    </tr>\n",
       "    <tr>\n",
       "      <th>1</th>\n",
       "      <td>92800</td>\n",
       "      <td>Volkswagen</td>\n",
       "      <td>Golf</td>\n",
       "      <td>Gasoline</td>\n",
       "      <td>Manual</td>\n",
       "      <td>Used</td>\n",
       "      <td>6877</td>\n",
       "      <td>122.0</td>\n",
       "      <td>2011</td>\n",
       "    </tr>\n",
       "    <tr>\n",
       "      <th>2</th>\n",
       "      <td>149300</td>\n",
       "      <td>SEAT</td>\n",
       "      <td>Exeo</td>\n",
       "      <td>Gasoline</td>\n",
       "      <td>Manual</td>\n",
       "      <td>Used</td>\n",
       "      <td>6900</td>\n",
       "      <td>160.0</td>\n",
       "      <td>2011</td>\n",
       "    </tr>\n",
       "    <tr>\n",
       "      <th>3</th>\n",
       "      <td>96200</td>\n",
       "      <td>Renault</td>\n",
       "      <td>Megane</td>\n",
       "      <td>Gasoline</td>\n",
       "      <td>Manual</td>\n",
       "      <td>Used</td>\n",
       "      <td>6950</td>\n",
       "      <td>110.0</td>\n",
       "      <td>2011</td>\n",
       "    </tr>\n",
       "    <tr>\n",
       "      <th>4</th>\n",
       "      <td>156000</td>\n",
       "      <td>Peugeot</td>\n",
       "      <td>308</td>\n",
       "      <td>Gasoline</td>\n",
       "      <td>Manual</td>\n",
       "      <td>Used</td>\n",
       "      <td>6950</td>\n",
       "      <td>156.0</td>\n",
       "      <td>2011</td>\n",
       "    </tr>\n",
       "    <tr>\n",
       "      <th>...</th>\n",
       "      <td>...</td>\n",
       "      <td>...</td>\n",
       "      <td>...</td>\n",
       "      <td>...</td>\n",
       "      <td>...</td>\n",
       "      <td>...</td>\n",
       "      <td>...</td>\n",
       "      <td>...</td>\n",
       "      <td>...</td>\n",
       "    </tr>\n",
       "    <tr>\n",
       "      <th>46400</th>\n",
       "      <td>99</td>\n",
       "      <td>Fiat</td>\n",
       "      <td>500</td>\n",
       "      <td>Electric/Gasoline</td>\n",
       "      <td>Manual</td>\n",
       "      <td>Pre-registered</td>\n",
       "      <td>12990</td>\n",
       "      <td>71.0</td>\n",
       "      <td>2021</td>\n",
       "    </tr>\n",
       "    <tr>\n",
       "      <th>46401</th>\n",
       "      <td>99</td>\n",
       "      <td>Fiat</td>\n",
       "      <td>500</td>\n",
       "      <td>Electric/Gasoline</td>\n",
       "      <td>Manual</td>\n",
       "      <td>Pre-registered</td>\n",
       "      <td>12990</td>\n",
       "      <td>71.0</td>\n",
       "      <td>2021</td>\n",
       "    </tr>\n",
       "    <tr>\n",
       "      <th>46402</th>\n",
       "      <td>99</td>\n",
       "      <td>Fiat</td>\n",
       "      <td>500</td>\n",
       "      <td>Electric/Gasoline</td>\n",
       "      <td>Manual</td>\n",
       "      <td>Pre-registered</td>\n",
       "      <td>12990</td>\n",
       "      <td>71.0</td>\n",
       "      <td>2021</td>\n",
       "    </tr>\n",
       "    <tr>\n",
       "      <th>46403</th>\n",
       "      <td>99</td>\n",
       "      <td>Fiat</td>\n",
       "      <td>500</td>\n",
       "      <td>Electric/Gasoline</td>\n",
       "      <td>Manual</td>\n",
       "      <td>Pre-registered</td>\n",
       "      <td>12990</td>\n",
       "      <td>71.0</td>\n",
       "      <td>2021</td>\n",
       "    </tr>\n",
       "    <tr>\n",
       "      <th>46404</th>\n",
       "      <td>99</td>\n",
       "      <td>Fiat</td>\n",
       "      <td>500</td>\n",
       "      <td>Electric/Gasoline</td>\n",
       "      <td>Manual</td>\n",
       "      <td>Pre-registered</td>\n",
       "      <td>12990</td>\n",
       "      <td>71.0</td>\n",
       "      <td>2021</td>\n",
       "    </tr>\n",
       "  </tbody>\n",
       "</table>\n",
       "<p>46405 rows × 9 columns</p>\n",
       "</div>"
      ],
      "text/plain": [
       "       mileage        make   model               fuel    gear       offerType  \\\n",
       "0       235000         BMW     316             Diesel  Manual            Used   \n",
       "1        92800  Volkswagen    Golf           Gasoline  Manual            Used   \n",
       "2       149300        SEAT    Exeo           Gasoline  Manual            Used   \n",
       "3        96200     Renault  Megane           Gasoline  Manual            Used   \n",
       "4       156000     Peugeot     308           Gasoline  Manual            Used   \n",
       "...        ...         ...     ...                ...     ...             ...   \n",
       "46400       99        Fiat     500  Electric/Gasoline  Manual  Pre-registered   \n",
       "46401       99        Fiat     500  Electric/Gasoline  Manual  Pre-registered   \n",
       "46402       99        Fiat     500  Electric/Gasoline  Manual  Pre-registered   \n",
       "46403       99        Fiat     500  Electric/Gasoline  Manual  Pre-registered   \n",
       "46404       99        Fiat     500  Electric/Gasoline  Manual  Pre-registered   \n",
       "\n",
       "       price     hp  year  \n",
       "0       6800  116.0  2011  \n",
       "1       6877  122.0  2011  \n",
       "2       6900  160.0  2011  \n",
       "3       6950  110.0  2011  \n",
       "4       6950  156.0  2011  \n",
       "...      ...    ...   ...  \n",
       "46400  12990   71.0  2021  \n",
       "46401  12990   71.0  2021  \n",
       "46402  12990   71.0  2021  \n",
       "46403  12990   71.0  2021  \n",
       "46404  12990   71.0  2021  \n",
       "\n",
       "[46405 rows x 9 columns]"
      ]
     },
     "execution_count": 9,
     "metadata": {},
     "output_type": "execute_result"
    }
   ],
   "source": [
    "teste2"
   ]
  },
  {
   "cell_type": "code",
   "execution_count": 8,
   "metadata": {},
   "outputs": [
    {
     "data": {
      "text/html": [
       "<div>\n",
       "<style scoped>\n",
       "    .dataframe tbody tr th:only-of-type {\n",
       "        vertical-align: middle;\n",
       "    }\n",
       "\n",
       "    .dataframe tbody tr th {\n",
       "        vertical-align: top;\n",
       "    }\n",
       "\n",
       "    .dataframe thead th {\n",
       "        text-align: right;\n",
       "    }\n",
       "</style>\n",
       "<table border=\"1\" class=\"dataframe\">\n",
       "  <thead>\n",
       "    <tr style=\"text-align: right;\">\n",
       "      <th></th>\n",
       "      <th>Unnamed: 0.2</th>\n",
       "      <th>Unnamed: 0.1</th>\n",
       "      <th>Unnamed: 0</th>\n",
       "      <th>make</th>\n",
       "      <th>model</th>\n",
       "      <th>fuel</th>\n",
       "      <th>gear</th>\n",
       "      <th>hp</th>\n",
       "      <th>year</th>\n",
       "    </tr>\n",
       "  </thead>\n",
       "  <tbody>\n",
       "    <tr>\n",
       "      <th>0</th>\n",
       "      <td>758</td>\n",
       "      <td>758</td>\n",
       "      <td>763</td>\n",
       "      <td>Mercedes-Benz</td>\n",
       "      <td>GLS 500</td>\n",
       "      <td>Gasoline</td>\n",
       "      <td>Automatic</td>\n",
       "      <td>455.0</td>\n",
       "      <td>2019</td>\n",
       "    </tr>\n",
       "    <tr>\n",
       "      <th>1</th>\n",
       "      <td>2158</td>\n",
       "      <td>2158</td>\n",
       "      <td>2169</td>\n",
       "      <td>Maserati</td>\n",
       "      <td>GranTurismo</td>\n",
       "      <td>Gasoline</td>\n",
       "      <td>Automatic</td>\n",
       "      <td>460.0</td>\n",
       "      <td>2016</td>\n",
       "    </tr>\n",
       "    <tr>\n",
       "      <th>2</th>\n",
       "      <td>2674</td>\n",
       "      <td>2674</td>\n",
       "      <td>2690</td>\n",
       "      <td>Renault</td>\n",
       "      <td>Express</td>\n",
       "      <td>Gasoline</td>\n",
       "      <td>Manual</td>\n",
       "      <td>101.0</td>\n",
       "      <td>2021</td>\n",
       "    </tr>\n",
       "    <tr>\n",
       "      <th>3</th>\n",
       "      <td>3388</td>\n",
       "      <td>3388</td>\n",
       "      <td>3408</td>\n",
       "      <td>Chrysler</td>\n",
       "      <td>Grand Voyager</td>\n",
       "      <td>Gasoline</td>\n",
       "      <td>Automatic</td>\n",
       "      <td>287.0</td>\n",
       "      <td>2013</td>\n",
       "    </tr>\n",
       "    <tr>\n",
       "      <th>4</th>\n",
       "      <td>3616</td>\n",
       "      <td>3616</td>\n",
       "      <td>3638</td>\n",
       "      <td>Volkswagen</td>\n",
       "      <td>Cross Golf</td>\n",
       "      <td>Gasoline</td>\n",
       "      <td>Manual</td>\n",
       "      <td>160.0</td>\n",
       "      <td>2014</td>\n",
       "    </tr>\n",
       "    <tr>\n",
       "      <th>...</th>\n",
       "      <td>...</td>\n",
       "      <td>...</td>\n",
       "      <td>...</td>\n",
       "      <td>...</td>\n",
       "      <td>...</td>\n",
       "      <td>...</td>\n",
       "      <td>...</td>\n",
       "      <td>...</td>\n",
       "      <td>...</td>\n",
       "    </tr>\n",
       "    <tr>\n",
       "      <th>830</th>\n",
       "      <td>46057</td>\n",
       "      <td>46057</td>\n",
       "      <td>46391</td>\n",
       "      <td>Mitsubishi</td>\n",
       "      <td>Space Star</td>\n",
       "      <td>Gasoline</td>\n",
       "      <td>Manual</td>\n",
       "      <td>71.0</td>\n",
       "      <td>2021</td>\n",
       "    </tr>\n",
       "    <tr>\n",
       "      <th>831</th>\n",
       "      <td>46061</td>\n",
       "      <td>46061</td>\n",
       "      <td>46395</td>\n",
       "      <td>Citroen</td>\n",
       "      <td>C1</td>\n",
       "      <td>Gasoline</td>\n",
       "      <td>Manual</td>\n",
       "      <td>72.0</td>\n",
       "      <td>2021</td>\n",
       "    </tr>\n",
       "    <tr>\n",
       "      <th>832</th>\n",
       "      <td>46064</td>\n",
       "      <td>46064</td>\n",
       "      <td>46398</td>\n",
       "      <td>Fiat</td>\n",
       "      <td>Panda</td>\n",
       "      <td>Electric/Gasoline</td>\n",
       "      <td>Manual</td>\n",
       "      <td>69.0</td>\n",
       "      <td>2021</td>\n",
       "    </tr>\n",
       "    <tr>\n",
       "      <th>833</th>\n",
       "      <td>46065</td>\n",
       "      <td>46065</td>\n",
       "      <td>46399</td>\n",
       "      <td>Skoda</td>\n",
       "      <td>Fabia</td>\n",
       "      <td>Gasoline</td>\n",
       "      <td>Manual</td>\n",
       "      <td>60.0</td>\n",
       "      <td>2021</td>\n",
       "    </tr>\n",
       "    <tr>\n",
       "      <th>834</th>\n",
       "      <td>46070</td>\n",
       "      <td>46070</td>\n",
       "      <td>46404</td>\n",
       "      <td>Fiat</td>\n",
       "      <td>500</td>\n",
       "      <td>Electric/Gasoline</td>\n",
       "      <td>Manual</td>\n",
       "      <td>71.0</td>\n",
       "      <td>2021</td>\n",
       "    </tr>\n",
       "  </tbody>\n",
       "</table>\n",
       "<p>835 rows × 9 columns</p>\n",
       "</div>"
      ],
      "text/plain": [
       "     Unnamed: 0.2  Unnamed: 0.1  Unnamed: 0           make          model  \\\n",
       "0             758           758         763  Mercedes-Benz        GLS 500   \n",
       "1            2158          2158        2169       Maserati    GranTurismo   \n",
       "2            2674          2674        2690        Renault        Express   \n",
       "3            3388          3388        3408       Chrysler  Grand Voyager   \n",
       "4            3616          3616        3638     Volkswagen     Cross Golf   \n",
       "..            ...           ...         ...            ...            ...   \n",
       "830         46057         46057       46391     Mitsubishi     Space Star   \n",
       "831         46061         46061       46395        Citroen             C1   \n",
       "832         46064         46064       46398           Fiat          Panda   \n",
       "833         46065         46065       46399          Skoda          Fabia   \n",
       "834         46070         46070       46404           Fiat            500   \n",
       "\n",
       "                  fuel       gear     hp  year  \n",
       "0             Gasoline  Automatic  455.0  2019  \n",
       "1             Gasoline  Automatic  460.0  2016  \n",
       "2             Gasoline     Manual  101.0  2021  \n",
       "3             Gasoline  Automatic  287.0  2013  \n",
       "4             Gasoline     Manual  160.0  2014  \n",
       "..                 ...        ...    ...   ...  \n",
       "830           Gasoline     Manual   71.0  2021  \n",
       "831           Gasoline     Manual   72.0  2021  \n",
       "832  Electric/Gasoline     Manual   69.0  2021  \n",
       "833           Gasoline     Manual   60.0  2021  \n",
       "834  Electric/Gasoline     Manual   71.0  2021  \n",
       "\n",
       "[835 rows x 9 columns]"
      ]
     },
     "execution_count": 8,
     "metadata": {},
     "output_type": "execute_result"
    }
   ],
   "source": [
    "teste"
   ]
  },
  {
   "cell_type": "code",
   "execution_count": 10,
   "metadata": {},
   "outputs": [],
   "source": [
    "# Remover a coluna \"Unnamed\"\n",
    "teste = teste.loc[:, ~teste.columns.str.contains('^Unnamed')]"
   ]
  },
  {
   "cell_type": "code",
   "execution_count": 11,
   "metadata": {},
   "outputs": [],
   "source": [
    "teste.to_csv('dataset-all-drop-duplicates-sem-unnamed.csv', index=False)"
   ]
  },
  {
   "cell_type": "code",
   "execution_count": 12,
   "metadata": {},
   "outputs": [],
   "source": [
    "teste3=pd.read_csv('dataset-all-drop-duplicates-sem-unnamed.csv')"
   ]
  },
  {
   "cell_type": "code",
   "execution_count": 13,
   "metadata": {},
   "outputs": [
    {
     "data": {
      "text/html": [
       "<div>\n",
       "<style scoped>\n",
       "    .dataframe tbody tr th:only-of-type {\n",
       "        vertical-align: middle;\n",
       "    }\n",
       "\n",
       "    .dataframe tbody tr th {\n",
       "        vertical-align: top;\n",
       "    }\n",
       "\n",
       "    .dataframe thead th {\n",
       "        text-align: right;\n",
       "    }\n",
       "</style>\n",
       "<table border=\"1\" class=\"dataframe\">\n",
       "  <thead>\n",
       "    <tr style=\"text-align: right;\">\n",
       "      <th></th>\n",
       "      <th>make</th>\n",
       "      <th>model</th>\n",
       "      <th>fuel</th>\n",
       "      <th>gear</th>\n",
       "      <th>hp</th>\n",
       "      <th>year</th>\n",
       "    </tr>\n",
       "  </thead>\n",
       "  <tbody>\n",
       "    <tr>\n",
       "      <th>0</th>\n",
       "      <td>Mercedes-Benz</td>\n",
       "      <td>GLS 500</td>\n",
       "      <td>Gasoline</td>\n",
       "      <td>Automatic</td>\n",
       "      <td>455.0</td>\n",
       "      <td>2019</td>\n",
       "    </tr>\n",
       "    <tr>\n",
       "      <th>1</th>\n",
       "      <td>Maserati</td>\n",
       "      <td>GranTurismo</td>\n",
       "      <td>Gasoline</td>\n",
       "      <td>Automatic</td>\n",
       "      <td>460.0</td>\n",
       "      <td>2016</td>\n",
       "    </tr>\n",
       "    <tr>\n",
       "      <th>2</th>\n",
       "      <td>Renault</td>\n",
       "      <td>Express</td>\n",
       "      <td>Gasoline</td>\n",
       "      <td>Manual</td>\n",
       "      <td>101.0</td>\n",
       "      <td>2021</td>\n",
       "    </tr>\n",
       "    <tr>\n",
       "      <th>3</th>\n",
       "      <td>Chrysler</td>\n",
       "      <td>Grand Voyager</td>\n",
       "      <td>Gasoline</td>\n",
       "      <td>Automatic</td>\n",
       "      <td>287.0</td>\n",
       "      <td>2013</td>\n",
       "    </tr>\n",
       "    <tr>\n",
       "      <th>4</th>\n",
       "      <td>Volkswagen</td>\n",
       "      <td>Cross Golf</td>\n",
       "      <td>Gasoline</td>\n",
       "      <td>Manual</td>\n",
       "      <td>160.0</td>\n",
       "      <td>2014</td>\n",
       "    </tr>\n",
       "    <tr>\n",
       "      <th>...</th>\n",
       "      <td>...</td>\n",
       "      <td>...</td>\n",
       "      <td>...</td>\n",
       "      <td>...</td>\n",
       "      <td>...</td>\n",
       "      <td>...</td>\n",
       "    </tr>\n",
       "    <tr>\n",
       "      <th>830</th>\n",
       "      <td>Mitsubishi</td>\n",
       "      <td>Space Star</td>\n",
       "      <td>Gasoline</td>\n",
       "      <td>Manual</td>\n",
       "      <td>71.0</td>\n",
       "      <td>2021</td>\n",
       "    </tr>\n",
       "    <tr>\n",
       "      <th>831</th>\n",
       "      <td>Citroen</td>\n",
       "      <td>C1</td>\n",
       "      <td>Gasoline</td>\n",
       "      <td>Manual</td>\n",
       "      <td>72.0</td>\n",
       "      <td>2021</td>\n",
       "    </tr>\n",
       "    <tr>\n",
       "      <th>832</th>\n",
       "      <td>Fiat</td>\n",
       "      <td>Panda</td>\n",
       "      <td>Electric/Gasoline</td>\n",
       "      <td>Manual</td>\n",
       "      <td>69.0</td>\n",
       "      <td>2021</td>\n",
       "    </tr>\n",
       "    <tr>\n",
       "      <th>833</th>\n",
       "      <td>Skoda</td>\n",
       "      <td>Fabia</td>\n",
       "      <td>Gasoline</td>\n",
       "      <td>Manual</td>\n",
       "      <td>60.0</td>\n",
       "      <td>2021</td>\n",
       "    </tr>\n",
       "    <tr>\n",
       "      <th>834</th>\n",
       "      <td>Fiat</td>\n",
       "      <td>500</td>\n",
       "      <td>Electric/Gasoline</td>\n",
       "      <td>Manual</td>\n",
       "      <td>71.0</td>\n",
       "      <td>2021</td>\n",
       "    </tr>\n",
       "  </tbody>\n",
       "</table>\n",
       "<p>835 rows × 6 columns</p>\n",
       "</div>"
      ],
      "text/plain": [
       "              make          model               fuel       gear     hp  year\n",
       "0    Mercedes-Benz        GLS 500           Gasoline  Automatic  455.0  2019\n",
       "1         Maserati    GranTurismo           Gasoline  Automatic  460.0  2016\n",
       "2          Renault        Express           Gasoline     Manual  101.0  2021\n",
       "3         Chrysler  Grand Voyager           Gasoline  Automatic  287.0  2013\n",
       "4       Volkswagen     Cross Golf           Gasoline     Manual  160.0  2014\n",
       "..             ...            ...                ...        ...    ...   ...\n",
       "830     Mitsubishi     Space Star           Gasoline     Manual   71.0  2021\n",
       "831        Citroen             C1           Gasoline     Manual   72.0  2021\n",
       "832           Fiat          Panda  Electric/Gasoline     Manual   69.0  2021\n",
       "833          Skoda          Fabia           Gasoline     Manual   60.0  2021\n",
       "834           Fiat            500  Electric/Gasoline     Manual   71.0  2021\n",
       "\n",
       "[835 rows x 6 columns]"
      ]
     },
     "execution_count": 13,
     "metadata": {},
     "output_type": "execute_result"
    }
   ],
   "source": [
    "teste3"
   ]
  },
  {
   "cell_type": "code",
   "execution_count": 14,
   "metadata": {},
   "outputs": [],
   "source": [
    "mapeamento_make = {'BMW': 1, 'Volkswagen': 2, 'Toyota': 3, 'Ford': 4, 'Renault': 5}  # Adicione outros valores conforme necessário\n",
    "\n",
    "# Aplicando o mapeamento à coluna 'make'\n",
    "teste3['make_numerico'] = teste3['make'].map(mapeamento_make)"
   ]
  },
  {
   "cell_type": "code",
   "execution_count": 17,
   "metadata": {},
   "outputs": [
    {
     "data": {
      "text/html": [
       "<div>\n",
       "<style scoped>\n",
       "    .dataframe tbody tr th:only-of-type {\n",
       "        vertical-align: middle;\n",
       "    }\n",
       "\n",
       "    .dataframe tbody tr th {\n",
       "        vertical-align: top;\n",
       "    }\n",
       "\n",
       "    .dataframe thead th {\n",
       "        text-align: right;\n",
       "    }\n",
       "</style>\n",
       "<table border=\"1\" class=\"dataframe\">\n",
       "  <thead>\n",
       "    <tr style=\"text-align: right;\">\n",
       "      <th></th>\n",
       "      <th>make</th>\n",
       "      <th>model</th>\n",
       "      <th>fuel</th>\n",
       "      <th>gear</th>\n",
       "      <th>hp</th>\n",
       "      <th>year</th>\n",
       "      <th>make_numerico</th>\n",
       "    </tr>\n",
       "  </thead>\n",
       "  <tbody>\n",
       "    <tr>\n",
       "      <th>0</th>\n",
       "      <td>Mercedes-Benz</td>\n",
       "      <td>GLS 500</td>\n",
       "      <td>Gasoline</td>\n",
       "      <td>Automatic</td>\n",
       "      <td>455.0</td>\n",
       "      <td>2019</td>\n",
       "      <td>NaN</td>\n",
       "    </tr>\n",
       "    <tr>\n",
       "      <th>1</th>\n",
       "      <td>Maserati</td>\n",
       "      <td>GranTurismo</td>\n",
       "      <td>Gasoline</td>\n",
       "      <td>Automatic</td>\n",
       "      <td>460.0</td>\n",
       "      <td>2016</td>\n",
       "      <td>NaN</td>\n",
       "    </tr>\n",
       "    <tr>\n",
       "      <th>2</th>\n",
       "      <td>Renault</td>\n",
       "      <td>Express</td>\n",
       "      <td>Gasoline</td>\n",
       "      <td>Manual</td>\n",
       "      <td>101.0</td>\n",
       "      <td>2021</td>\n",
       "      <td>5.0</td>\n",
       "    </tr>\n",
       "    <tr>\n",
       "      <th>3</th>\n",
       "      <td>Chrysler</td>\n",
       "      <td>Grand Voyager</td>\n",
       "      <td>Gasoline</td>\n",
       "      <td>Automatic</td>\n",
       "      <td>287.0</td>\n",
       "      <td>2013</td>\n",
       "      <td>NaN</td>\n",
       "    </tr>\n",
       "    <tr>\n",
       "      <th>4</th>\n",
       "      <td>Volkswagen</td>\n",
       "      <td>Cross Golf</td>\n",
       "      <td>Gasoline</td>\n",
       "      <td>Manual</td>\n",
       "      <td>160.0</td>\n",
       "      <td>2014</td>\n",
       "      <td>2.0</td>\n",
       "    </tr>\n",
       "    <tr>\n",
       "      <th>...</th>\n",
       "      <td>...</td>\n",
       "      <td>...</td>\n",
       "      <td>...</td>\n",
       "      <td>...</td>\n",
       "      <td>...</td>\n",
       "      <td>...</td>\n",
       "      <td>...</td>\n",
       "    </tr>\n",
       "    <tr>\n",
       "      <th>830</th>\n",
       "      <td>Mitsubishi</td>\n",
       "      <td>Space Star</td>\n",
       "      <td>Gasoline</td>\n",
       "      <td>Manual</td>\n",
       "      <td>71.0</td>\n",
       "      <td>2021</td>\n",
       "      <td>NaN</td>\n",
       "    </tr>\n",
       "    <tr>\n",
       "      <th>831</th>\n",
       "      <td>Citroen</td>\n",
       "      <td>C1</td>\n",
       "      <td>Gasoline</td>\n",
       "      <td>Manual</td>\n",
       "      <td>72.0</td>\n",
       "      <td>2021</td>\n",
       "      <td>NaN</td>\n",
       "    </tr>\n",
       "    <tr>\n",
       "      <th>832</th>\n",
       "      <td>Fiat</td>\n",
       "      <td>Panda</td>\n",
       "      <td>Electric/Gasoline</td>\n",
       "      <td>Manual</td>\n",
       "      <td>69.0</td>\n",
       "      <td>2021</td>\n",
       "      <td>NaN</td>\n",
       "    </tr>\n",
       "    <tr>\n",
       "      <th>833</th>\n",
       "      <td>Skoda</td>\n",
       "      <td>Fabia</td>\n",
       "      <td>Gasoline</td>\n",
       "      <td>Manual</td>\n",
       "      <td>60.0</td>\n",
       "      <td>2021</td>\n",
       "      <td>NaN</td>\n",
       "    </tr>\n",
       "    <tr>\n",
       "      <th>834</th>\n",
       "      <td>Fiat</td>\n",
       "      <td>500</td>\n",
       "      <td>Electric/Gasoline</td>\n",
       "      <td>Manual</td>\n",
       "      <td>71.0</td>\n",
       "      <td>2021</td>\n",
       "      <td>NaN</td>\n",
       "    </tr>\n",
       "  </tbody>\n",
       "</table>\n",
       "<p>835 rows × 7 columns</p>\n",
       "</div>"
      ],
      "text/plain": [
       "              make          model               fuel       gear     hp  year  \\\n",
       "0    Mercedes-Benz        GLS 500           Gasoline  Automatic  455.0  2019   \n",
       "1         Maserati    GranTurismo           Gasoline  Automatic  460.0  2016   \n",
       "2          Renault        Express           Gasoline     Manual  101.0  2021   \n",
       "3         Chrysler  Grand Voyager           Gasoline  Automatic  287.0  2013   \n",
       "4       Volkswagen     Cross Golf           Gasoline     Manual  160.0  2014   \n",
       "..             ...            ...                ...        ...    ...   ...   \n",
       "830     Mitsubishi     Space Star           Gasoline     Manual   71.0  2021   \n",
       "831        Citroen             C1           Gasoline     Manual   72.0  2021   \n",
       "832           Fiat          Panda  Electric/Gasoline     Manual   69.0  2021   \n",
       "833          Skoda          Fabia           Gasoline     Manual   60.0  2021   \n",
       "834           Fiat            500  Electric/Gasoline     Manual   71.0  2021   \n",
       "\n",
       "     make_numerico  \n",
       "0              NaN  \n",
       "1              NaN  \n",
       "2              5.0  \n",
       "3              NaN  \n",
       "4              2.0  \n",
       "..             ...  \n",
       "830            NaN  \n",
       "831            NaN  \n",
       "832            NaN  \n",
       "833            NaN  \n",
       "834            NaN  \n",
       "\n",
       "[835 rows x 7 columns]"
      ]
     },
     "execution_count": 17,
     "metadata": {},
     "output_type": "execute_result"
    }
   ],
   "source": [
    "teste3"
   ]
  },
  {
   "cell_type": "code",
   "execution_count": 19,
   "metadata": {},
   "outputs": [],
   "source": [
    "mapeamento_marcas = {'BMW': 1, 'Volkswagen': 2, 'SEAT': 3, 'Renault': 4, 'Peugeot': 5, 'Toyota': 6, 'Opel': 7, 'Mazda': 8, 'Ford': 9,\n",
    "                 'Mercedes-Benz': 10, 'Chevrolet': 11, 'Audi': 12, 'Fiat': 13, 'Kia': 14, 'Dacia': 15, 'MINI': 16, 'Hyundai': 17, 'Skoda': 18,\n",
    "                   'Citroen': 19, 'Infiniti': 20, 'Suzuki': 21, 'SsangYong': 22, 'smart': 23, 'Cupra': 24, 'Volvo': 25, 'Jaguar': 26,\n",
    "                     'Porsche': 27, 'Nissan': 28, 'Honda': 29, 'Lada': 30, 'Mitsubishi': 31, 'Others': 32, 'Lexus': 33, 'Jeep': 34,\n",
    "                       'Maserati': 35, 'Bentley': 36, 'Land': 37, 'Alfa': 38, 'Subaru': 39, 'Dodge': 40, 'Microcar': 41,\n",
    "                         'Lamborghini': 42, 'Baic': 43, 'Tesla': 44, 'Chrysler': 45, '9ff': 46, 'McLaren': 47, 'Aston': 48,\n",
    "                           'Rolls-Royce': 49, 'Alpine': 50, 'Lancia': 51, 'Abarth': 52, 'DS': 53, 'Daihatsu': 54, 'Ligier': 55,\n",
    "                             'Ferrari': 56, 'Caravans-Wohnm': 57, 'Aixam': 58, 'Piaggio': 59, 'Zhidou': 60, 'Morgan': 61,\n",
    "                               'Maybach': 62, 'Tazzari': 63, 'Trucks-Lkw': 64, 'RAM': 65, 'Iveco': 66, 'DAF': 67, 'Alpina': 68,\n",
    "                                 'Polestar': 69, 'Brilliance': 70, 'FISKER': 71, 'Cadillac': 72, 'Trailer-Anhänger': 73,\n",
    "                                   'Isuzu': 74, 'Corvette': 75, 'DFSK': 76, 'Estrima': 77}"
   ]
  },
  {
   "cell_type": "code",
   "execution_count": 20,
   "metadata": {},
   "outputs": [],
   "source": [
    "teste4=pd.read_csv('dataset-all-drop-duplicates-sem-unnamed.csv')\n"
   ]
  },
  {
   "cell_type": "code",
   "execution_count": 21,
   "metadata": {},
   "outputs": [],
   "source": [
    "teste4['make_numerico'] = teste4['make'].map(mapeamento_marcas)"
   ]
  },
  {
   "cell_type": "code",
   "execution_count": 22,
   "metadata": {},
   "outputs": [
    {
     "data": {
      "text/html": [
       "<div>\n",
       "<style scoped>\n",
       "    .dataframe tbody tr th:only-of-type {\n",
       "        vertical-align: middle;\n",
       "    }\n",
       "\n",
       "    .dataframe tbody tr th {\n",
       "        vertical-align: top;\n",
       "    }\n",
       "\n",
       "    .dataframe thead th {\n",
       "        text-align: right;\n",
       "    }\n",
       "</style>\n",
       "<table border=\"1\" class=\"dataframe\">\n",
       "  <thead>\n",
       "    <tr style=\"text-align: right;\">\n",
       "      <th></th>\n",
       "      <th>make</th>\n",
       "      <th>model</th>\n",
       "      <th>fuel</th>\n",
       "      <th>gear</th>\n",
       "      <th>hp</th>\n",
       "      <th>year</th>\n",
       "      <th>make_numerico</th>\n",
       "    </tr>\n",
       "  </thead>\n",
       "  <tbody>\n",
       "    <tr>\n",
       "      <th>0</th>\n",
       "      <td>Mercedes-Benz</td>\n",
       "      <td>GLS 500</td>\n",
       "      <td>Gasoline</td>\n",
       "      <td>Automatic</td>\n",
       "      <td>455.0</td>\n",
       "      <td>2019</td>\n",
       "      <td>10</td>\n",
       "    </tr>\n",
       "    <tr>\n",
       "      <th>1</th>\n",
       "      <td>Maserati</td>\n",
       "      <td>GranTurismo</td>\n",
       "      <td>Gasoline</td>\n",
       "      <td>Automatic</td>\n",
       "      <td>460.0</td>\n",
       "      <td>2016</td>\n",
       "      <td>35</td>\n",
       "    </tr>\n",
       "    <tr>\n",
       "      <th>2</th>\n",
       "      <td>Renault</td>\n",
       "      <td>Express</td>\n",
       "      <td>Gasoline</td>\n",
       "      <td>Manual</td>\n",
       "      <td>101.0</td>\n",
       "      <td>2021</td>\n",
       "      <td>4</td>\n",
       "    </tr>\n",
       "    <tr>\n",
       "      <th>3</th>\n",
       "      <td>Chrysler</td>\n",
       "      <td>Grand Voyager</td>\n",
       "      <td>Gasoline</td>\n",
       "      <td>Automatic</td>\n",
       "      <td>287.0</td>\n",
       "      <td>2013</td>\n",
       "      <td>45</td>\n",
       "    </tr>\n",
       "    <tr>\n",
       "      <th>4</th>\n",
       "      <td>Volkswagen</td>\n",
       "      <td>Cross Golf</td>\n",
       "      <td>Gasoline</td>\n",
       "      <td>Manual</td>\n",
       "      <td>160.0</td>\n",
       "      <td>2014</td>\n",
       "      <td>2</td>\n",
       "    </tr>\n",
       "    <tr>\n",
       "      <th>...</th>\n",
       "      <td>...</td>\n",
       "      <td>...</td>\n",
       "      <td>...</td>\n",
       "      <td>...</td>\n",
       "      <td>...</td>\n",
       "      <td>...</td>\n",
       "      <td>...</td>\n",
       "    </tr>\n",
       "    <tr>\n",
       "      <th>830</th>\n",
       "      <td>Mitsubishi</td>\n",
       "      <td>Space Star</td>\n",
       "      <td>Gasoline</td>\n",
       "      <td>Manual</td>\n",
       "      <td>71.0</td>\n",
       "      <td>2021</td>\n",
       "      <td>31</td>\n",
       "    </tr>\n",
       "    <tr>\n",
       "      <th>831</th>\n",
       "      <td>Citroen</td>\n",
       "      <td>C1</td>\n",
       "      <td>Gasoline</td>\n",
       "      <td>Manual</td>\n",
       "      <td>72.0</td>\n",
       "      <td>2021</td>\n",
       "      <td>19</td>\n",
       "    </tr>\n",
       "    <tr>\n",
       "      <th>832</th>\n",
       "      <td>Fiat</td>\n",
       "      <td>Panda</td>\n",
       "      <td>Electric/Gasoline</td>\n",
       "      <td>Manual</td>\n",
       "      <td>69.0</td>\n",
       "      <td>2021</td>\n",
       "      <td>13</td>\n",
       "    </tr>\n",
       "    <tr>\n",
       "      <th>833</th>\n",
       "      <td>Skoda</td>\n",
       "      <td>Fabia</td>\n",
       "      <td>Gasoline</td>\n",
       "      <td>Manual</td>\n",
       "      <td>60.0</td>\n",
       "      <td>2021</td>\n",
       "      <td>18</td>\n",
       "    </tr>\n",
       "    <tr>\n",
       "      <th>834</th>\n",
       "      <td>Fiat</td>\n",
       "      <td>500</td>\n",
       "      <td>Electric/Gasoline</td>\n",
       "      <td>Manual</td>\n",
       "      <td>71.0</td>\n",
       "      <td>2021</td>\n",
       "      <td>13</td>\n",
       "    </tr>\n",
       "  </tbody>\n",
       "</table>\n",
       "<p>835 rows × 7 columns</p>\n",
       "</div>"
      ],
      "text/plain": [
       "              make          model               fuel       gear     hp  year  \\\n",
       "0    Mercedes-Benz        GLS 500           Gasoline  Automatic  455.0  2019   \n",
       "1         Maserati    GranTurismo           Gasoline  Automatic  460.0  2016   \n",
       "2          Renault        Express           Gasoline     Manual  101.0  2021   \n",
       "3         Chrysler  Grand Voyager           Gasoline  Automatic  287.0  2013   \n",
       "4       Volkswagen     Cross Golf           Gasoline     Manual  160.0  2014   \n",
       "..             ...            ...                ...        ...    ...   ...   \n",
       "830     Mitsubishi     Space Star           Gasoline     Manual   71.0  2021   \n",
       "831        Citroen             C1           Gasoline     Manual   72.0  2021   \n",
       "832           Fiat          Panda  Electric/Gasoline     Manual   69.0  2021   \n",
       "833          Skoda          Fabia           Gasoline     Manual   60.0  2021   \n",
       "834           Fiat            500  Electric/Gasoline     Manual   71.0  2021   \n",
       "\n",
       "     make_numerico  \n",
       "0               10  \n",
       "1               35  \n",
       "2                4  \n",
       "3               45  \n",
       "4                2  \n",
       "..             ...  \n",
       "830             31  \n",
       "831             19  \n",
       "832             13  \n",
       "833             18  \n",
       "834             13  \n",
       "\n",
       "[835 rows x 7 columns]"
      ]
     },
     "execution_count": 22,
     "metadata": {},
     "output_type": "execute_result"
    }
   ],
   "source": [
    "teste4"
   ]
  }
 ],
 "metadata": {
  "kernelspec": {
   "display_name": "base",
   "language": "python",
   "name": "python3"
  },
  "language_info": {
   "codemirror_mode": {
    "name": "ipython",
    "version": 3
   },
   "file_extension": ".py",
   "mimetype": "text/x-python",
   "name": "python",
   "nbconvert_exporter": "python",
   "pygments_lexer": "ipython3",
   "version": "3.11.5"
  }
 },
 "nbformat": 4,
 "nbformat_minor": 2
}
